{
 "cells": [
  {
   "cell_type": "markdown",
   "metadata": {},
   "source": [
    " # Tax Rate Analysis of all towns for the years 2014, 2017 and 2019 #"
   ]
  },
  {
   "cell_type": "code",
   "execution_count": 1,
   "metadata": {},
   "outputs": [],
   "source": [
    "import pandas as pd\n",
    "import matplotlib.pyplot as plt\n",
    "import seaborn as sns\n",
    "import numpy as np"
   ]
  },
  {
   "cell_type": "code",
   "execution_count": 2,
   "metadata": {
    "scrolled": true
   },
   "outputs": [
    {
     "data": {
      "text/html": [
       "<div>\n",
       "<style scoped>\n",
       "    .dataframe tbody tr th:only-of-type {\n",
       "        vertical-align: middle;\n",
       "    }\n",
       "\n",
       "    .dataframe tbody tr th {\n",
       "        vertical-align: top;\n",
       "    }\n",
       "\n",
       "    .dataframe thead th {\n",
       "        text-align: right;\n",
       "    }\n",
       "</style>\n",
       "<table border=\"1\" class=\"dataframe\">\n",
       "  <thead>\n",
       "    <tr style=\"text-align: right;\">\n",
       "      <th></th>\n",
       "      <th>Town Code</th>\n",
       "      <th>Service District Code</th>\n",
       "      <th>Municipality</th>\n",
       "      <th>Millrate</th>\n",
       "      <th>Grand List Year</th>\n",
       "    </tr>\n",
       "  </thead>\n",
       "  <tbody>\n",
       "    <tr>\n",
       "      <th>0</th>\n",
       "      <td>1</td>\n",
       "      <td>0</td>\n",
       "      <td>Andover</td>\n",
       "      <td>30.77</td>\n",
       "      <td>2012</td>\n",
       "    </tr>\n",
       "    <tr>\n",
       "      <th>1</th>\n",
       "      <td>2</td>\n",
       "      <td>0</td>\n",
       "      <td>Ansonia</td>\n",
       "      <td>39.34</td>\n",
       "      <td>2012</td>\n",
       "    </tr>\n",
       "    <tr>\n",
       "      <th>2</th>\n",
       "      <td>3</td>\n",
       "      <td>0</td>\n",
       "      <td>Ashford</td>\n",
       "      <td>31.65</td>\n",
       "      <td>2012</td>\n",
       "    </tr>\n",
       "    <tr>\n",
       "      <th>3</th>\n",
       "      <td>4</td>\n",
       "      <td>0</td>\n",
       "      <td>Avon</td>\n",
       "      <td>26.32</td>\n",
       "      <td>2012</td>\n",
       "    </tr>\n",
       "    <tr>\n",
       "      <th>4</th>\n",
       "      <td>5</td>\n",
       "      <td>0</td>\n",
       "      <td>Barkhamsted</td>\n",
       "      <td>24.26</td>\n",
       "      <td>2012</td>\n",
       "    </tr>\n",
       "  </tbody>\n",
       "</table>\n",
       "</div>"
      ],
      "text/plain": [
       "   Town Code  Service District Code Municipality  Millrate  Grand List Year\n",
       "0          1                      0      Andover     30.77             2012\n",
       "1          2                      0      Ansonia     39.34             2012\n",
       "2          3                      0      Ashford     31.65             2012\n",
       "3          4                      0         Avon     26.32             2012\n",
       "4          5                      0  Barkhamsted     24.26             2012"
      ]
     },
     "execution_count": 2,
     "metadata": {},
     "output_type": "execute_result"
    }
   ],
   "source": [
    "df1 = pd.read_csv('Mill_Rates_2014.csv')\n",
    "df1.head()"
   ]
  },
  {
   "cell_type": "code",
   "execution_count": 3,
   "metadata": {},
   "outputs": [],
   "source": [
    "df1 = df1.drop(['Grand List Year'], axis=1)"
   ]
  },
  {
   "cell_type": "code",
   "execution_count": 4,
   "metadata": {},
   "outputs": [
    {
     "data": {
      "text/html": [
       "<div>\n",
       "<style scoped>\n",
       "    .dataframe tbody tr th:only-of-type {\n",
       "        vertical-align: middle;\n",
       "    }\n",
       "\n",
       "    .dataframe tbody tr th {\n",
       "        vertical-align: top;\n",
       "    }\n",
       "\n",
       "    .dataframe thead th {\n",
       "        text-align: right;\n",
       "    }\n",
       "</style>\n",
       "<table border=\"1\" class=\"dataframe\">\n",
       "  <thead>\n",
       "    <tr style=\"text-align: right;\">\n",
       "      <th></th>\n",
       "      <th>Town Code</th>\n",
       "      <th>Service District Code</th>\n",
       "      <th>Municipality</th>\n",
       "      <th>Millrate</th>\n",
       "    </tr>\n",
       "  </thead>\n",
       "  <tbody>\n",
       "    <tr>\n",
       "      <th>0</th>\n",
       "      <td>1</td>\n",
       "      <td>0</td>\n",
       "      <td>Andover</td>\n",
       "      <td>30.77</td>\n",
       "    </tr>\n",
       "    <tr>\n",
       "      <th>1</th>\n",
       "      <td>2</td>\n",
       "      <td>0</td>\n",
       "      <td>Ansonia</td>\n",
       "      <td>39.34</td>\n",
       "    </tr>\n",
       "    <tr>\n",
       "      <th>2</th>\n",
       "      <td>3</td>\n",
       "      <td>0</td>\n",
       "      <td>Ashford</td>\n",
       "      <td>31.65</td>\n",
       "    </tr>\n",
       "    <tr>\n",
       "      <th>3</th>\n",
       "      <td>4</td>\n",
       "      <td>0</td>\n",
       "      <td>Avon</td>\n",
       "      <td>26.32</td>\n",
       "    </tr>\n",
       "    <tr>\n",
       "      <th>4</th>\n",
       "      <td>5</td>\n",
       "      <td>0</td>\n",
       "      <td>Barkhamsted</td>\n",
       "      <td>24.26</td>\n",
       "    </tr>\n",
       "  </tbody>\n",
       "</table>\n",
       "</div>"
      ],
      "text/plain": [
       "   Town Code  Service District Code Municipality  Millrate\n",
       "0          1                      0      Andover     30.77\n",
       "1          2                      0      Ansonia     39.34\n",
       "2          3                      0      Ashford     31.65\n",
       "3          4                      0         Avon     26.32\n",
       "4          5                      0  Barkhamsted     24.26"
      ]
     },
     "execution_count": 4,
     "metadata": {},
     "output_type": "execute_result"
    }
   ],
   "source": [
    "df1.head()"
   ]
  },
  {
   "cell_type": "code",
   "execution_count": 5,
   "metadata": {},
   "outputs": [
    {
     "data": {
      "text/html": [
       "<div>\n",
       "<style scoped>\n",
       "    .dataframe tbody tr th:only-of-type {\n",
       "        vertical-align: middle;\n",
       "    }\n",
       "\n",
       "    .dataframe tbody tr th {\n",
       "        vertical-align: top;\n",
       "    }\n",
       "\n",
       "    .dataframe thead th {\n",
       "        text-align: right;\n",
       "    }\n",
       "</style>\n",
       "<table border=\"1\" class=\"dataframe\">\n",
       "  <thead>\n",
       "    <tr style=\"text-align: right;\">\n",
       "      <th></th>\n",
       "      <th>Code</th>\n",
       "      <th>Service District Code</th>\n",
       "      <th>Municipality</th>\n",
       "      <th>FY 2017 Mill Rate</th>\n",
       "      <th>FY 2017 Mill Rate - Real &amp; Personal Property                  (PA 16-3 S.189 May SS)</th>\n",
       "      <th>FY 2017 Mill Rate - Motor Vehicle          (PA 16-3 S.189 May SS)</th>\n",
       "    </tr>\n",
       "  </thead>\n",
       "  <tbody>\n",
       "    <tr>\n",
       "      <th>0</th>\n",
       "      <td>1</td>\n",
       "      <td>0.0</td>\n",
       "      <td>Andover</td>\n",
       "      <td>30.720</td>\n",
       "      <td>0.000</td>\n",
       "      <td>0.0</td>\n",
       "    </tr>\n",
       "    <tr>\n",
       "      <th>1</th>\n",
       "      <td>2</td>\n",
       "      <td>0.0</td>\n",
       "      <td>Ansonia</td>\n",
       "      <td>37.160</td>\n",
       "      <td>37.320</td>\n",
       "      <td>37.0</td>\n",
       "    </tr>\n",
       "    <tr>\n",
       "      <th>2</th>\n",
       "      <td>3</td>\n",
       "      <td>0.0</td>\n",
       "      <td>Ashford</td>\n",
       "      <td>32.184</td>\n",
       "      <td>32.368</td>\n",
       "      <td>32.0</td>\n",
       "    </tr>\n",
       "    <tr>\n",
       "      <th>3</th>\n",
       "      <td>4</td>\n",
       "      <td>0.0</td>\n",
       "      <td>Avon</td>\n",
       "      <td>29.520</td>\n",
       "      <td>0.000</td>\n",
       "      <td>0.0</td>\n",
       "    </tr>\n",
       "    <tr>\n",
       "      <th>4</th>\n",
       "      <td>5</td>\n",
       "      <td>0.0</td>\n",
       "      <td>Barkhamsted</td>\n",
       "      <td>28.360</td>\n",
       "      <td>0.000</td>\n",
       "      <td>0.0</td>\n",
       "    </tr>\n",
       "  </tbody>\n",
       "</table>\n",
       "</div>"
      ],
      "text/plain": [
       "   Code  Service District Code Municipality  FY 2017 Mill Rate  \\\n",
       "0     1                    0.0      Andover             30.720   \n",
       "1     2                    0.0      Ansonia             37.160   \n",
       "2     3                    0.0      Ashford             32.184   \n",
       "3     4                    0.0         Avon             29.520   \n",
       "4     5                    0.0  Barkhamsted             28.360   \n",
       "\n",
       "   FY 2017 Mill Rate - Real & Personal Property                  (PA 16-3 S.189 May SS)  \\\n",
       "0                                              0.000                                      \n",
       "1                                             37.320                                      \n",
       "2                                             32.368                                      \n",
       "3                                              0.000                                      \n",
       "4                                              0.000                                      \n",
       "\n",
       "   FY 2017 Mill Rate - Motor Vehicle          (PA 16-3 S.189 May SS)  \n",
       "0                                                0.0                  \n",
       "1                                               37.0                  \n",
       "2                                               32.0                  \n",
       "3                                                0.0                  \n",
       "4                                                0.0                  "
      ]
     },
     "execution_count": 5,
     "metadata": {},
     "output_type": "execute_result"
    }
   ],
   "source": [
    "df2 = pd.read_csv('Mill_Rates_for_2017_Fiscal_Year.csv')\n",
    "df2['FY 2017 Mill Rate - Real & Personal Property                  (PA 16-3 S.189 May SS)'].fillna(0, inplace = True)\n",
    "df2['FY 2017 Mill Rate - Motor Vehicle          (PA 16-3 S.189 May SS)'].fillna(0, inplace = True)\n",
    "df2.loc[df2['FY 2017 Mill Rate'].isnull(),'FY 2017 Mill Rate'] = (df2['FY 2017 Mill Rate - Real & Personal Property                  (PA 16-3 S.189 May SS)']+df2['FY 2017 Mill Rate - Motor Vehicle          (PA 16-3 S.189 May SS)'])/2\n",
    "df2.head()"
   ]
  },
  {
   "cell_type": "code",
   "execution_count": 6,
   "metadata": {},
   "outputs": [],
   "source": [
    "df2 = df2.drop(['FY 2017 Mill Rate - Real & Personal Property                  (PA 16-3 S.189 May SS)'], axis=1)\n",
    "df2 = df2.drop(['FY 2017 Mill Rate - Motor Vehicle          (PA 16-3 S.189 May SS)'], axis=1)"
   ]
  },
  {
   "cell_type": "code",
   "execution_count": 7,
   "metadata": {},
   "outputs": [
    {
     "data": {
      "text/html": [
       "<div>\n",
       "<style scoped>\n",
       "    .dataframe tbody tr th:only-of-type {\n",
       "        vertical-align: middle;\n",
       "    }\n",
       "\n",
       "    .dataframe tbody tr th {\n",
       "        vertical-align: top;\n",
       "    }\n",
       "\n",
       "    .dataframe thead th {\n",
       "        text-align: right;\n",
       "    }\n",
       "</style>\n",
       "<table border=\"1\" class=\"dataframe\">\n",
       "  <thead>\n",
       "    <tr style=\"text-align: right;\">\n",
       "      <th></th>\n",
       "      <th>Code</th>\n",
       "      <th>Service District Code</th>\n",
       "      <th>Municipality</th>\n",
       "      <th>FY 2017 Mill Rate</th>\n",
       "    </tr>\n",
       "  </thead>\n",
       "  <tbody>\n",
       "    <tr>\n",
       "      <th>0</th>\n",
       "      <td>1</td>\n",
       "      <td>0.0</td>\n",
       "      <td>Andover</td>\n",
       "      <td>30.720</td>\n",
       "    </tr>\n",
       "    <tr>\n",
       "      <th>1</th>\n",
       "      <td>2</td>\n",
       "      <td>0.0</td>\n",
       "      <td>Ansonia</td>\n",
       "      <td>37.160</td>\n",
       "    </tr>\n",
       "    <tr>\n",
       "      <th>2</th>\n",
       "      <td>3</td>\n",
       "      <td>0.0</td>\n",
       "      <td>Ashford</td>\n",
       "      <td>32.184</td>\n",
       "    </tr>\n",
       "    <tr>\n",
       "      <th>3</th>\n",
       "      <td>4</td>\n",
       "      <td>0.0</td>\n",
       "      <td>Avon</td>\n",
       "      <td>29.520</td>\n",
       "    </tr>\n",
       "    <tr>\n",
       "      <th>4</th>\n",
       "      <td>5</td>\n",
       "      <td>0.0</td>\n",
       "      <td>Barkhamsted</td>\n",
       "      <td>28.360</td>\n",
       "    </tr>\n",
       "  </tbody>\n",
       "</table>\n",
       "</div>"
      ],
      "text/plain": [
       "   Code  Service District Code Municipality  FY 2017 Mill Rate\n",
       "0     1                    0.0      Andover             30.720\n",
       "1     2                    0.0      Ansonia             37.160\n",
       "2     3                    0.0      Ashford             32.184\n",
       "3     4                    0.0         Avon             29.520\n",
       "4     5                    0.0  Barkhamsted             28.360"
      ]
     },
     "execution_count": 7,
     "metadata": {},
     "output_type": "execute_result"
    }
   ],
   "source": [
    "df2.head()"
   ]
  },
  {
   "cell_type": "code",
   "execution_count": 8,
   "metadata": {
    "scrolled": true
   },
   "outputs": [
    {
     "data": {
      "text/plain": [
       "['Code',\n",
       " 'Service District Code',\n",
       " 'Municipality',\n",
       " 'FY 2018 Mill Rate',\n",
       " 'FY 2018 Mill Rate - Real & Personal Property (PA 17-2 S. 699 June SS)',\n",
       " 'FY 2018 Mill Rate - Motor Vehicle          (PA 17-2 S. 699 June SS)']"
      ]
     },
     "execution_count": 8,
     "metadata": {},
     "output_type": "execute_result"
    }
   ],
   "source": [
    "df3 = pd.read_csv('Mill_Rates_for_2018_Fiscal_Year.csv')\n",
    "df3.columns.tolist()"
   ]
  },
  {
   "cell_type": "code",
   "execution_count": 10,
   "metadata": {},
   "outputs": [
    {
     "name": "stdout",
     "output_type": "stream",
     "text": [
      "<class 'pandas.core.frame.DataFrame'>\n",
      "RangeIndex: 290 entries, 0 to 289\n",
      "Data columns (total 6 columns):\n",
      "Code                                                                     290 non-null int64\n",
      "Service District Code                                                    288 non-null float64\n",
      "Municipality                                                             290 non-null object\n",
      "FY 2018 Mill Rate                                                        214 non-null float64\n",
      "FY 2018 Mill Rate - Real & Personal Property (PA 17-2 S. 699 June SS)    60 non-null float64\n",
      "FY 2018 Mill Rate - Motor Vehicle          (PA 17-2 S. 699 June SS)      61 non-null float64\n",
      "dtypes: float64(4), int64(1), object(1)\n",
      "memory usage: 13.7+ KB\n"
     ]
    }
   ],
   "source": [
    "df3.info()"
   ]
  },
  {
   "cell_type": "code",
   "execution_count": 9,
   "metadata": {},
   "outputs": [
    {
     "data": {
      "text/plain": [
       "Code                                                                       0\n",
       "Service District Code                                                      2\n",
       "Municipality                                                               0\n",
       "FY 2018 Mill Rate                                                         76\n",
       "FY 2018 Mill Rate - Real & Personal Property (PA 17-2 S. 699 June SS)    230\n",
       "FY 2018 Mill Rate - Motor Vehicle          (PA 17-2 S. 699 June SS)      229\n",
       "dtype: int64"
      ]
     },
     "execution_count": 9,
     "metadata": {},
     "output_type": "execute_result"
    }
   ],
   "source": [
    "df3.isnull().sum()"
   ]
  },
  {
   "cell_type": "code",
   "execution_count": 9,
   "metadata": {},
   "outputs": [
    {
     "data": {
      "text/html": [
       "<div>\n",
       "<style scoped>\n",
       "    .dataframe tbody tr th:only-of-type {\n",
       "        vertical-align: middle;\n",
       "    }\n",
       "\n",
       "    .dataframe tbody tr th {\n",
       "        vertical-align: top;\n",
       "    }\n",
       "\n",
       "    .dataframe thead th {\n",
       "        text-align: right;\n",
       "    }\n",
       "</style>\n",
       "<table border=\"1\" class=\"dataframe\">\n",
       "  <thead>\n",
       "    <tr style=\"text-align: right;\">\n",
       "      <th></th>\n",
       "      <th>Code</th>\n",
       "      <th>Service District Code</th>\n",
       "      <th>Municipality</th>\n",
       "      <th>FY 2018 Mill Rate</th>\n",
       "      <th>FY 2018 Mill Rate - Real &amp; Personal Property (PA 17-2 S. 699 June SS)</th>\n",
       "      <th>FY 2018 Mill Rate - Motor Vehicle          (PA 17-2 S. 699 June SS)</th>\n",
       "    </tr>\n",
       "  </thead>\n",
       "  <tbody>\n",
       "    <tr>\n",
       "      <th>0</th>\n",
       "      <td>1</td>\n",
       "      <td>0.0</td>\n",
       "      <td>Andover</td>\n",
       "      <td>32.500</td>\n",
       "      <td>0.000</td>\n",
       "      <td>0.0</td>\n",
       "    </tr>\n",
       "    <tr>\n",
       "      <th>1</th>\n",
       "      <td>2</td>\n",
       "      <td>0.0</td>\n",
       "      <td>Ansonia</td>\n",
       "      <td>37.320</td>\n",
       "      <td>0.000</td>\n",
       "      <td>0.0</td>\n",
       "    </tr>\n",
       "    <tr>\n",
       "      <th>2</th>\n",
       "      <td>3</td>\n",
       "      <td>0.0</td>\n",
       "      <td>Ashford</td>\n",
       "      <td>33.184</td>\n",
       "      <td>34.368</td>\n",
       "      <td>32.0</td>\n",
       "    </tr>\n",
       "    <tr>\n",
       "      <th>3</th>\n",
       "      <td>4</td>\n",
       "      <td>0.0</td>\n",
       "      <td>Avon</td>\n",
       "      <td>30.590</td>\n",
       "      <td>0.000</td>\n",
       "      <td>0.0</td>\n",
       "    </tr>\n",
       "    <tr>\n",
       "      <th>4</th>\n",
       "      <td>5</td>\n",
       "      <td>0.0</td>\n",
       "      <td>Barkhamsted</td>\n",
       "      <td>29.370</td>\n",
       "      <td>0.000</td>\n",
       "      <td>0.0</td>\n",
       "    </tr>\n",
       "  </tbody>\n",
       "</table>\n",
       "</div>"
      ],
      "text/plain": [
       "   Code  Service District Code Municipality  FY 2018 Mill Rate  \\\n",
       "0     1                    0.0      Andover             32.500   \n",
       "1     2                    0.0      Ansonia             37.320   \n",
       "2     3                    0.0      Ashford             33.184   \n",
       "3     4                    0.0         Avon             30.590   \n",
       "4     5                    0.0  Barkhamsted             29.370   \n",
       "\n",
       "   FY 2018 Mill Rate - Real & Personal Property (PA 17-2 S. 699 June SS)  \\\n",
       "0                                              0.000                       \n",
       "1                                              0.000                       \n",
       "2                                             34.368                       \n",
       "3                                              0.000                       \n",
       "4                                              0.000                       \n",
       "\n",
       "   FY 2018 Mill Rate - Motor Vehicle          (PA 17-2 S. 699 June SS)  \n",
       "0                                                0.0                    \n",
       "1                                                0.0                    \n",
       "2                                               32.0                    \n",
       "3                                                0.0                    \n",
       "4                                                0.0                    "
      ]
     },
     "execution_count": 9,
     "metadata": {},
     "output_type": "execute_result"
    }
   ],
   "source": [
    "df3['FY 2018 Mill Rate - Real & Personal Property (PA 17-2 S. 699 June SS)'].fillna(0, inplace = True)\n",
    "df3['FY 2018 Mill Rate - Motor Vehicle          (PA 17-2 S. 699 June SS)'].fillna(0, inplace = True)\n",
    "df3.loc[df3['FY 2018 Mill Rate'].isnull(),'FY 2018 Mill Rate'] = (df3['FY 2018 Mill Rate - Real & Personal Property (PA 17-2 S. 699 June SS)']+df3['FY 2018 Mill Rate - Motor Vehicle          (PA 17-2 S. 699 June SS)'])/2\n",
    "df3.head()"
   ]
  },
  {
   "cell_type": "code",
   "execution_count": 10,
   "metadata": {},
   "outputs": [],
   "source": [
    "df3 = df3.drop(['FY 2018 Mill Rate - Real & Personal Property (PA 17-2 S. 699 June SS)'], axis=1)\n",
    "df3 = df3.drop(['FY 2018 Mill Rate - Motor Vehicle          (PA 17-2 S. 699 June SS)'], axis=1)"
   ]
  },
  {
   "cell_type": "code",
   "execution_count": 11,
   "metadata": {},
   "outputs": [
    {
     "data": {
      "text/html": [
       "<div>\n",
       "<style scoped>\n",
       "    .dataframe tbody tr th:only-of-type {\n",
       "        vertical-align: middle;\n",
       "    }\n",
       "\n",
       "    .dataframe tbody tr th {\n",
       "        vertical-align: top;\n",
       "    }\n",
       "\n",
       "    .dataframe thead th {\n",
       "        text-align: right;\n",
       "    }\n",
       "</style>\n",
       "<table border=\"1\" class=\"dataframe\">\n",
       "  <thead>\n",
       "    <tr style=\"text-align: right;\">\n",
       "      <th></th>\n",
       "      <th>Code</th>\n",
       "      <th>Service District Code</th>\n",
       "      <th>Municipality</th>\n",
       "      <th>FY 2018 Mill Rate</th>\n",
       "    </tr>\n",
       "  </thead>\n",
       "  <tbody>\n",
       "    <tr>\n",
       "      <th>0</th>\n",
       "      <td>1</td>\n",
       "      <td>0.0</td>\n",
       "      <td>Andover</td>\n",
       "      <td>32.500</td>\n",
       "    </tr>\n",
       "    <tr>\n",
       "      <th>1</th>\n",
       "      <td>2</td>\n",
       "      <td>0.0</td>\n",
       "      <td>Ansonia</td>\n",
       "      <td>37.320</td>\n",
       "    </tr>\n",
       "    <tr>\n",
       "      <th>2</th>\n",
       "      <td>3</td>\n",
       "      <td>0.0</td>\n",
       "      <td>Ashford</td>\n",
       "      <td>33.184</td>\n",
       "    </tr>\n",
       "    <tr>\n",
       "      <th>3</th>\n",
       "      <td>4</td>\n",
       "      <td>0.0</td>\n",
       "      <td>Avon</td>\n",
       "      <td>30.590</td>\n",
       "    </tr>\n",
       "    <tr>\n",
       "      <th>4</th>\n",
       "      <td>5</td>\n",
       "      <td>0.0</td>\n",
       "      <td>Barkhamsted</td>\n",
       "      <td>29.370</td>\n",
       "    </tr>\n",
       "  </tbody>\n",
       "</table>\n",
       "</div>"
      ],
      "text/plain": [
       "   Code  Service District Code Municipality  FY 2018 Mill Rate\n",
       "0     1                    0.0      Andover             32.500\n",
       "1     2                    0.0      Ansonia             37.320\n",
       "2     3                    0.0      Ashford             33.184\n",
       "3     4                    0.0         Avon             30.590\n",
       "4     5                    0.0  Barkhamsted             29.370"
      ]
     },
     "execution_count": 11,
     "metadata": {},
     "output_type": "execute_result"
    }
   ],
   "source": [
    "df3.head()"
   ]
  },
  {
   "cell_type": "code",
   "execution_count": 12,
   "metadata": {},
   "outputs": [
    {
     "data": {
      "text/html": [
       "<div>\n",
       "<style scoped>\n",
       "    .dataframe tbody tr th:only-of-type {\n",
       "        vertical-align: middle;\n",
       "    }\n",
       "\n",
       "    .dataframe tbody tr th {\n",
       "        vertical-align: top;\n",
       "    }\n",
       "\n",
       "    .dataframe thead th {\n",
       "        text-align: right;\n",
       "    }\n",
       "</style>\n",
       "<table border=\"1\" class=\"dataframe\">\n",
       "  <thead>\n",
       "    <tr style=\"text-align: right;\">\n",
       "      <th></th>\n",
       "      <th>Code</th>\n",
       "      <th>Service District Code</th>\n",
       "      <th>MUNICIPALITY</th>\n",
       "      <th>GLY 2017          FY 2019 Mill Rate</th>\n",
       "      <th>FY 2019 Mill Rate - Real &amp; Personal Property                  (PA 16-3 S.187 May SS)</th>\n",
       "      <th>FY 2019 Mill Rate - Motor Vehicle          (PA 16-3 S.187 May SS)</th>\n",
       "    </tr>\n",
       "  </thead>\n",
       "  <tbody>\n",
       "    <tr>\n",
       "      <th>0</th>\n",
       "      <td>1</td>\n",
       "      <td>0.0</td>\n",
       "      <td>Andover</td>\n",
       "      <td>33.9500</td>\n",
       "      <td>NaN</td>\n",
       "      <td>NaN</td>\n",
       "    </tr>\n",
       "    <tr>\n",
       "      <th>1</th>\n",
       "      <td>2</td>\n",
       "      <td>0.0</td>\n",
       "      <td>Ansonia</td>\n",
       "      <td>37.3200</td>\n",
       "      <td>NaN</td>\n",
       "      <td>NaN</td>\n",
       "    </tr>\n",
       "    <tr>\n",
       "      <th>2</th>\n",
       "      <td>3</td>\n",
       "      <td>0.0</td>\n",
       "      <td>Ashford</td>\n",
       "      <td>34.7670</td>\n",
       "      <td>NaN</td>\n",
       "      <td>NaN</td>\n",
       "    </tr>\n",
       "    <tr>\n",
       "      <th>3</th>\n",
       "      <td>4</td>\n",
       "      <td>0.0</td>\n",
       "      <td>Avon</td>\n",
       "      <td>31.3500</td>\n",
       "      <td>NaN</td>\n",
       "      <td>NaN</td>\n",
       "    </tr>\n",
       "    <tr>\n",
       "      <th>4</th>\n",
       "      <td>4</td>\n",
       "      <td>1.0</td>\n",
       "      <td>Avon, Farmington Woods</td>\n",
       "      <td>14.6589</td>\n",
       "      <td>NaN</td>\n",
       "      <td>NaN</td>\n",
       "    </tr>\n",
       "  </tbody>\n",
       "</table>\n",
       "</div>"
      ],
      "text/plain": [
       "   Code  Service District Code            MUNICIPALITY  \\\n",
       "0     1                    0.0                 Andover   \n",
       "1     2                    0.0                 Ansonia   \n",
       "2     3                    0.0                 Ashford   \n",
       "3     4                    0.0                    Avon   \n",
       "4     4                    1.0  Avon, Farmington Woods   \n",
       "\n",
       "   GLY 2017          FY 2019 Mill Rate  \\\n",
       "0                              33.9500   \n",
       "1                              37.3200   \n",
       "2                              34.7670   \n",
       "3                              31.3500   \n",
       "4                              14.6589   \n",
       "\n",
       "   FY 2019 Mill Rate - Real & Personal Property                  (PA 16-3 S.187 May SS)  \\\n",
       "0                                                NaN                                      \n",
       "1                                                NaN                                      \n",
       "2                                                NaN                                      \n",
       "3                                                NaN                                      \n",
       "4                                                NaN                                      \n",
       "\n",
       "   FY 2019 Mill Rate - Motor Vehicle          (PA 16-3 S.187 May SS)  \n",
       "0                                                NaN                  \n",
       "1                                                NaN                  \n",
       "2                                                NaN                  \n",
       "3                                                NaN                  \n",
       "4                                                NaN                  "
      ]
     },
     "execution_count": 12,
     "metadata": {},
     "output_type": "execute_result"
    }
   ],
   "source": [
    "df4 = pd.read_csv('Mill_Rates_for_2019_Fiscal_Year.csv')\n",
    "df4.head()"
   ]
  },
  {
   "cell_type": "code",
   "execution_count": 13,
   "metadata": {},
   "outputs": [
    {
     "data": {
      "text/plain": [
       "['Code',\n",
       " 'Service District Code',\n",
       " 'MUNICIPALITY',\n",
       " 'GLY 2017          FY 2019 Mill Rate',\n",
       " 'FY 2019 Mill Rate - Real & Personal Property                  (PA 16-3 S.187 May SS)',\n",
       " 'FY 2019 Mill Rate - Motor Vehicle          (PA 16-3 S.187 May SS)']"
      ]
     },
     "execution_count": 13,
     "metadata": {},
     "output_type": "execute_result"
    }
   ],
   "source": [
    "df4.columns.tolist()"
   ]
  },
  {
   "cell_type": "code",
   "execution_count": 14,
   "metadata": {},
   "outputs": [],
   "source": [
    "df4['FY 2019 Mill Rate - Real & Personal Property                  (PA 16-3 S.187 May SS)'].fillna(0, inplace=True)\n",
    "df4['FY 2019 Mill Rate - Motor Vehicle          (PA 16-3 S.187 May SS)'].fillna(0, inplace=True)"
   ]
  },
  {
   "cell_type": "code",
   "execution_count": 15,
   "metadata": {
    "scrolled": true
   },
   "outputs": [
    {
     "data": {
      "text/html": [
       "<div>\n",
       "<style scoped>\n",
       "    .dataframe tbody tr th:only-of-type {\n",
       "        vertical-align: middle;\n",
       "    }\n",
       "\n",
       "    .dataframe tbody tr th {\n",
       "        vertical-align: top;\n",
       "    }\n",
       "\n",
       "    .dataframe thead th {\n",
       "        text-align: right;\n",
       "    }\n",
       "</style>\n",
       "<table border=\"1\" class=\"dataframe\">\n",
       "  <thead>\n",
       "    <tr style=\"text-align: right;\">\n",
       "      <th></th>\n",
       "      <th>Code</th>\n",
       "      <th>Service District Code</th>\n",
       "      <th>MUNICIPALITY</th>\n",
       "      <th>GLY 2017          FY 2019 Mill Rate</th>\n",
       "      <th>FY 2019 Mill Rate - Real &amp; Personal Property                  (PA 16-3 S.187 May SS)</th>\n",
       "      <th>FY 2019 Mill Rate - Motor Vehicle          (PA 16-3 S.187 May SS)</th>\n",
       "    </tr>\n",
       "  </thead>\n",
       "  <tbody>\n",
       "    <tr>\n",
       "      <th>0</th>\n",
       "      <td>1</td>\n",
       "      <td>0.0</td>\n",
       "      <td>Andover</td>\n",
       "      <td>33.9500</td>\n",
       "      <td>0.0</td>\n",
       "      <td>0.0</td>\n",
       "    </tr>\n",
       "    <tr>\n",
       "      <th>1</th>\n",
       "      <td>2</td>\n",
       "      <td>0.0</td>\n",
       "      <td>Ansonia</td>\n",
       "      <td>37.3200</td>\n",
       "      <td>0.0</td>\n",
       "      <td>0.0</td>\n",
       "    </tr>\n",
       "    <tr>\n",
       "      <th>2</th>\n",
       "      <td>3</td>\n",
       "      <td>0.0</td>\n",
       "      <td>Ashford</td>\n",
       "      <td>34.7670</td>\n",
       "      <td>0.0</td>\n",
       "      <td>0.0</td>\n",
       "    </tr>\n",
       "    <tr>\n",
       "      <th>3</th>\n",
       "      <td>4</td>\n",
       "      <td>0.0</td>\n",
       "      <td>Avon</td>\n",
       "      <td>31.3500</td>\n",
       "      <td>0.0</td>\n",
       "      <td>0.0</td>\n",
       "    </tr>\n",
       "    <tr>\n",
       "      <th>4</th>\n",
       "      <td>4</td>\n",
       "      <td>1.0</td>\n",
       "      <td>Avon, Farmington Woods</td>\n",
       "      <td>14.6589</td>\n",
       "      <td>0.0</td>\n",
       "      <td>0.0</td>\n",
       "    </tr>\n",
       "  </tbody>\n",
       "</table>\n",
       "</div>"
      ],
      "text/plain": [
       "   Code  Service District Code            MUNICIPALITY  \\\n",
       "0     1                    0.0                 Andover   \n",
       "1     2                    0.0                 Ansonia   \n",
       "2     3                    0.0                 Ashford   \n",
       "3     4                    0.0                    Avon   \n",
       "4     4                    1.0  Avon, Farmington Woods   \n",
       "\n",
       "   GLY 2017          FY 2019 Mill Rate  \\\n",
       "0                              33.9500   \n",
       "1                              37.3200   \n",
       "2                              34.7670   \n",
       "3                              31.3500   \n",
       "4                              14.6589   \n",
       "\n",
       "   FY 2019 Mill Rate - Real & Personal Property                  (PA 16-3 S.187 May SS)  \\\n",
       "0                                                0.0                                      \n",
       "1                                                0.0                                      \n",
       "2                                                0.0                                      \n",
       "3                                                0.0                                      \n",
       "4                                                0.0                                      \n",
       "\n",
       "   FY 2019 Mill Rate - Motor Vehicle          (PA 16-3 S.187 May SS)  \n",
       "0                                                0.0                  \n",
       "1                                                0.0                  \n",
       "2                                                0.0                  \n",
       "3                                                0.0                  \n",
       "4                                                0.0                  "
      ]
     },
     "execution_count": 15,
     "metadata": {},
     "output_type": "execute_result"
    }
   ],
   "source": [
    "df4.loc[df4['GLY 2017          FY 2019 Mill Rate'].isnull(),'GLY 2017          FY 2019 Mill Rate'] = (df4['FY 2019 Mill Rate - Real & Personal Property                  (PA 16-3 S.187 May SS)']+df4['FY 2019 Mill Rate - Motor Vehicle          (PA 16-3 S.187 May SS)'])/2\n",
    "df4.head()"
   ]
  },
  {
   "cell_type": "code",
   "execution_count": 16,
   "metadata": {},
   "outputs": [],
   "source": [
    "df4 = df4.drop(['FY 2019 Mill Rate - Real & Personal Property                  (PA 16-3 S.187 May SS)'], axis=1)\n",
    "df4 = df4.drop(['FY 2019 Mill Rate - Motor Vehicle          (PA 16-3 S.187 May SS)'], axis=1)\n"
   ]
  },
  {
   "cell_type": "code",
   "execution_count": 17,
   "metadata": {},
   "outputs": [],
   "source": [
    "df1.columns = ['FY 2014 Mill Rate' if x=='Millrate' else x for x in df1.columns]\n",
    "df4.columns = ['FY 2019 Mill Rate' if x=='GLY 2017          FY 2019 Mill Rate' else x for x in df4.columns]"
   ]
  },
  {
   "cell_type": "code",
   "execution_count": 18,
   "metadata": {},
   "outputs": [
    {
     "data": {
      "text/html": [
       "<div>\n",
       "<style scoped>\n",
       "    .dataframe tbody tr th:only-of-type {\n",
       "        vertical-align: middle;\n",
       "    }\n",
       "\n",
       "    .dataframe tbody tr th {\n",
       "        vertical-align: top;\n",
       "    }\n",
       "\n",
       "    .dataframe thead th {\n",
       "        text-align: right;\n",
       "    }\n",
       "</style>\n",
       "<table border=\"1\" class=\"dataframe\">\n",
       "  <thead>\n",
       "    <tr style=\"text-align: right;\">\n",
       "      <th></th>\n",
       "      <th>Town Code</th>\n",
       "      <th>Service District Code</th>\n",
       "      <th>Municipality</th>\n",
       "      <th>FY 2014 Mill Rate</th>\n",
       "    </tr>\n",
       "  </thead>\n",
       "  <tbody>\n",
       "    <tr>\n",
       "      <th>0</th>\n",
       "      <td>1</td>\n",
       "      <td>0</td>\n",
       "      <td>Andover</td>\n",
       "      <td>30.77</td>\n",
       "    </tr>\n",
       "    <tr>\n",
       "      <th>1</th>\n",
       "      <td>2</td>\n",
       "      <td>0</td>\n",
       "      <td>Ansonia</td>\n",
       "      <td>39.34</td>\n",
       "    </tr>\n",
       "  </tbody>\n",
       "</table>\n",
       "</div>"
      ],
      "text/plain": [
       "   Town Code  Service District Code Municipality  FY 2014 Mill Rate\n",
       "0          1                      0      Andover              30.77\n",
       "1          2                      0      Ansonia              39.34"
      ]
     },
     "execution_count": 18,
     "metadata": {},
     "output_type": "execute_result"
    }
   ],
   "source": [
    "df1.head(2)"
   ]
  },
  {
   "cell_type": "code",
   "execution_count": 19,
   "metadata": {},
   "outputs": [
    {
     "data": {
      "text/html": [
       "<div>\n",
       "<style scoped>\n",
       "    .dataframe tbody tr th:only-of-type {\n",
       "        vertical-align: middle;\n",
       "    }\n",
       "\n",
       "    .dataframe tbody tr th {\n",
       "        vertical-align: top;\n",
       "    }\n",
       "\n",
       "    .dataframe thead th {\n",
       "        text-align: right;\n",
       "    }\n",
       "</style>\n",
       "<table border=\"1\" class=\"dataframe\">\n",
       "  <thead>\n",
       "    <tr style=\"text-align: right;\">\n",
       "      <th></th>\n",
       "      <th>Code</th>\n",
       "      <th>Service District Code</th>\n",
       "      <th>Municipality</th>\n",
       "      <th>FY 2017 Mill Rate</th>\n",
       "    </tr>\n",
       "  </thead>\n",
       "  <tbody>\n",
       "    <tr>\n",
       "      <th>0</th>\n",
       "      <td>1</td>\n",
       "      <td>0.0</td>\n",
       "      <td>Andover</td>\n",
       "      <td>30.72</td>\n",
       "    </tr>\n",
       "    <tr>\n",
       "      <th>1</th>\n",
       "      <td>2</td>\n",
       "      <td>0.0</td>\n",
       "      <td>Ansonia</td>\n",
       "      <td>37.16</td>\n",
       "    </tr>\n",
       "  </tbody>\n",
       "</table>\n",
       "</div>"
      ],
      "text/plain": [
       "   Code  Service District Code Municipality  FY 2017 Mill Rate\n",
       "0     1                    0.0      Andover              30.72\n",
       "1     2                    0.0      Ansonia              37.16"
      ]
     },
     "execution_count": 19,
     "metadata": {},
     "output_type": "execute_result"
    }
   ],
   "source": [
    "df2.head(2)"
   ]
  },
  {
   "cell_type": "code",
   "execution_count": 20,
   "metadata": {},
   "outputs": [
    {
     "data": {
      "text/html": [
       "<div>\n",
       "<style scoped>\n",
       "    .dataframe tbody tr th:only-of-type {\n",
       "        vertical-align: middle;\n",
       "    }\n",
       "\n",
       "    .dataframe tbody tr th {\n",
       "        vertical-align: top;\n",
       "    }\n",
       "\n",
       "    .dataframe thead th {\n",
       "        text-align: right;\n",
       "    }\n",
       "</style>\n",
       "<table border=\"1\" class=\"dataframe\">\n",
       "  <thead>\n",
       "    <tr style=\"text-align: right;\">\n",
       "      <th></th>\n",
       "      <th>Code</th>\n",
       "      <th>Service District Code</th>\n",
       "      <th>Municipality</th>\n",
       "      <th>FY 2018 Mill Rate</th>\n",
       "    </tr>\n",
       "  </thead>\n",
       "  <tbody>\n",
       "    <tr>\n",
       "      <th>0</th>\n",
       "      <td>1</td>\n",
       "      <td>0.0</td>\n",
       "      <td>Andover</td>\n",
       "      <td>32.50</td>\n",
       "    </tr>\n",
       "    <tr>\n",
       "      <th>1</th>\n",
       "      <td>2</td>\n",
       "      <td>0.0</td>\n",
       "      <td>Ansonia</td>\n",
       "      <td>37.32</td>\n",
       "    </tr>\n",
       "  </tbody>\n",
       "</table>\n",
       "</div>"
      ],
      "text/plain": [
       "   Code  Service District Code Municipality  FY 2018 Mill Rate\n",
       "0     1                    0.0      Andover              32.50\n",
       "1     2                    0.0      Ansonia              37.32"
      ]
     },
     "execution_count": 20,
     "metadata": {},
     "output_type": "execute_result"
    }
   ],
   "source": [
    "df3.head(2)"
   ]
  },
  {
   "cell_type": "code",
   "execution_count": 21,
   "metadata": {},
   "outputs": [
    {
     "data": {
      "text/html": [
       "<div>\n",
       "<style scoped>\n",
       "    .dataframe tbody tr th:only-of-type {\n",
       "        vertical-align: middle;\n",
       "    }\n",
       "\n",
       "    .dataframe tbody tr th {\n",
       "        vertical-align: top;\n",
       "    }\n",
       "\n",
       "    .dataframe thead th {\n",
       "        text-align: right;\n",
       "    }\n",
       "</style>\n",
       "<table border=\"1\" class=\"dataframe\">\n",
       "  <thead>\n",
       "    <tr style=\"text-align: right;\">\n",
       "      <th></th>\n",
       "      <th>Code</th>\n",
       "      <th>Service District Code</th>\n",
       "      <th>MUNICIPALITY</th>\n",
       "      <th>FY 2019 Mill Rate</th>\n",
       "    </tr>\n",
       "  </thead>\n",
       "  <tbody>\n",
       "    <tr>\n",
       "      <th>0</th>\n",
       "      <td>1</td>\n",
       "      <td>0.0</td>\n",
       "      <td>Andover</td>\n",
       "      <td>33.95</td>\n",
       "    </tr>\n",
       "    <tr>\n",
       "      <th>1</th>\n",
       "      <td>2</td>\n",
       "      <td>0.0</td>\n",
       "      <td>Ansonia</td>\n",
       "      <td>37.32</td>\n",
       "    </tr>\n",
       "  </tbody>\n",
       "</table>\n",
       "</div>"
      ],
      "text/plain": [
       "   Code  Service District Code MUNICIPALITY  FY 2019 Mill Rate\n",
       "0     1                    0.0      Andover              33.95\n",
       "1     2                    0.0      Ansonia              37.32"
      ]
     },
     "execution_count": 21,
     "metadata": {},
     "output_type": "execute_result"
    }
   ],
   "source": [
    "df4.head(2)"
   ]
  },
  {
   "cell_type": "code",
   "execution_count": 22,
   "metadata": {},
   "outputs": [],
   "source": [
    "df4 = df4.drop(['Code', 'Service District Code'], axis=1)\n",
    "df3 = df3.drop(['Code', 'Service District Code'], axis=1)\n",
    "df2 = df2.drop(['Code', 'Service District Code'], axis=1)\n",
    "df1 = df1.drop(['Town Code', 'Service District Code'], axis=1)"
   ]
  },
  {
   "cell_type": "code",
   "execution_count": 23,
   "metadata": {},
   "outputs": [],
   "source": [
    "df4.columns = ['Municipality' if x=='MUNICIPALITY' else x for x in df4.columns]"
   ]
  },
  {
   "cell_type": "code",
   "execution_count": 24,
   "metadata": {},
   "outputs": [],
   "source": [
    "result1 = pd.merge(df1, df2, how='inner', on=['Municipality'])\n",
    "result2 = pd.merge(result1, df3, how='inner', on=['Municipality'])"
   ]
  },
  {
   "cell_type": "code",
   "execution_count": 25,
   "metadata": {},
   "outputs": [
    {
     "data": {
      "text/html": [
       "<div>\n",
       "<style scoped>\n",
       "    .dataframe tbody tr th:only-of-type {\n",
       "        vertical-align: middle;\n",
       "    }\n",
       "\n",
       "    .dataframe tbody tr th {\n",
       "        vertical-align: top;\n",
       "    }\n",
       "\n",
       "    .dataframe thead th {\n",
       "        text-align: right;\n",
       "    }\n",
       "</style>\n",
       "<table border=\"1\" class=\"dataframe\">\n",
       "  <thead>\n",
       "    <tr style=\"text-align: right;\">\n",
       "      <th></th>\n",
       "      <th>Municipality</th>\n",
       "      <th>FY 2014 Mill Rate</th>\n",
       "      <th>FY 2017 Mill Rate</th>\n",
       "      <th>FY 2018 Mill Rate</th>\n",
       "      <th>FY 2019 Mill Rate</th>\n",
       "    </tr>\n",
       "  </thead>\n",
       "  <tbody>\n",
       "    <tr>\n",
       "      <th>0</th>\n",
       "      <td>Andover</td>\n",
       "      <td>30.77</td>\n",
       "      <td>30.720</td>\n",
       "      <td>32.500</td>\n",
       "      <td>33.950</td>\n",
       "    </tr>\n",
       "    <tr>\n",
       "      <th>1</th>\n",
       "      <td>Ansonia</td>\n",
       "      <td>39.34</td>\n",
       "      <td>37.160</td>\n",
       "      <td>37.320</td>\n",
       "      <td>37.320</td>\n",
       "    </tr>\n",
       "    <tr>\n",
       "      <th>2</th>\n",
       "      <td>Ashford</td>\n",
       "      <td>31.65</td>\n",
       "      <td>32.184</td>\n",
       "      <td>33.184</td>\n",
       "      <td>34.767</td>\n",
       "    </tr>\n",
       "    <tr>\n",
       "      <th>3</th>\n",
       "      <td>Avon</td>\n",
       "      <td>26.32</td>\n",
       "      <td>29.520</td>\n",
       "      <td>30.590</td>\n",
       "      <td>31.350</td>\n",
       "    </tr>\n",
       "    <tr>\n",
       "      <th>4</th>\n",
       "      <td>Barkhamsted</td>\n",
       "      <td>24.26</td>\n",
       "      <td>28.360</td>\n",
       "      <td>29.370</td>\n",
       "      <td>29.860</td>\n",
       "    </tr>\n",
       "  </tbody>\n",
       "</table>\n",
       "</div>"
      ],
      "text/plain": [
       "  Municipality  FY 2014 Mill Rate  FY 2017 Mill Rate  FY 2018 Mill Rate  \\\n",
       "0      Andover              30.77             30.720             32.500   \n",
       "1      Ansonia              39.34             37.160             37.320   \n",
       "2      Ashford              31.65             32.184             33.184   \n",
       "3         Avon              26.32             29.520             30.590   \n",
       "4  Barkhamsted              24.26             28.360             29.370   \n",
       "\n",
       "   FY 2019 Mill Rate  \n",
       "0             33.950  \n",
       "1             37.320  \n",
       "2             34.767  \n",
       "3             31.350  \n",
       "4             29.860  "
      ]
     },
     "execution_count": 25,
     "metadata": {},
     "output_type": "execute_result"
    }
   ],
   "source": [
    "result = pd.merge(result2, df4, how='inner', on=['Municipality'])\n",
    "result.head()"
   ]
  },
  {
   "cell_type": "code",
   "execution_count": 26,
   "metadata": {},
   "outputs": [
    {
     "data": {
      "text/plain": [
       "Text(0.5, 1.0, 'Comparison of Tax Rates over the years for different towns')"
      ]
     },
     "execution_count": 26,
     "metadata": {},
     "output_type": "execute_result"
    },
    {
     "data": {
      "image/png": "[encoded data removed]",
      "text/plain": [
       "<Figure size 1440x576 with 1 Axes>"
      ]
     },
     "metadata": {
      "needs_background": "light"
     },
     "output_type": "display_data"
    }
   ],
   "source": [
    "from pylab import rcParams\n",
    "rcParams['figure.figsize'] = 20, 8\n",
    "result.plot(x='Municipality', y=['FY 2014 Mill Rate', 'FY 2017 Mill Rate', 'FY 2019 Mill Rate'])\n",
    "plt.xlabel('------Towns------')\n",
    "plt.ylabel('Mill Rates')\n",
    "plt.title('Comparison of Tax Rates over the years for different towns')"
   ]
  },
  {
   "cell_type": "markdown",
   "metadata": {},
   "source": [
    "*Inference: It is evident from the above graph that tax rates follows FY 2019>FY 2017>FY 2014 for each town over the period (except for a few outlier towns)* "
   ]
  },
  {
   "cell_type": "markdown",
   "metadata": {},
   "source": [
    "*Procedure: Here, we fill the missing values of overall mill rate by taking the mean of corresponding Mill Rates of Property and Motor Vehicles. The individual mill rate analysis of Property and Motor Vehicles has not been carried out considering the large number of missing values in both of those columns*"
   ]
  },
  {
   "cell_type": "markdown",
   "metadata": {},
   "source": [
    "*As we can see, the green line is, for the most part, above the blue colored line as well as the orange line, and orange is above blue. This increasing nature of taxes coupled with factors like job market and our analysis from real estate sales data can then be used to make good estimate of the nature of sales variation (taking 2017 and 2018 data as the training part of our model) and to make sales forecast*"
   ]
  }
 ],
 "metadata": {
  "kernelspec": {
   "display_name": "Python 3",
   "language": "python",
   "name": "python3"
  },
  "language_info": {
   "codemirror_mode": {
    "name": "ipython",
    "version": 3
   },
   "file_extension": ".py",
   "mimetype": "text/x-python",
   "name": "python",
   "nbconvert_exporter": "python",
   "pygments_lexer": "ipython3",
   "version": "3.7.1"
  }
 },
 "nbformat": 4,
 "nbformat_minor": 2
}
